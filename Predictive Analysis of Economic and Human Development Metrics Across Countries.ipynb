{
 "cells": [
  {
   "cell_type": "markdown",
   "id": "208610f2-cbcb-4200-b00f-a78ad9566a4a",
   "metadata": {},
   "source": [
    "# **Predictive Analysis of Economic and Human Development Metrics Across Countries**\n",
    "\n",
    "## **Introduction:**\n",
    "In a globalized world, understanding the economic and social dynamics of different countries is crucial for making informed decisions. This report aims to develop a predictive model that can forecast economic and human development outcomes based on available data. By leveraging key indicators such as GDP, population size, and the Human Development Index (HDI), this analysis seeks to uncover patterns and relationships that can inform future economic planning and policy-making.\n",
    "\n",
    "## **Data Overview**\n",
    "The dataset used for this analysis contains information about various countries over a specified period. Key variables include:\n",
    "\n",
    "- **Date:** The time period during which the data was recorded.\n",
    "- **ISO:** The ISO country code.\n",
    "- **Country:** The name of the country.\n",
    "- **Status:** The operational status of the country (e.g., Fully open, Partially open).\n",
    "- **GDP:** The Gross Domestic Product per capita (in USD).\n",
    "- **Population:** The total population of the country.\n",
    "- **Human Development Index (HDI):** A composite index measuring average achievement in key dimensions of human development: a long and healthy life, being knowledgeable, and having a decent standard of living.\n",
    "\n",
    "## **Findings:**\n",
    "The findings of this report will include an analysis of the relationships between the GDP, population, and HDI of various countries. The predictive model will be built to forecast HDI based on GDP and population, providing insights into how economic and demographic factors influence human development. The results will help identify which factors most significantly contribute to higher human development and may guide future economic and social policies.\n",
    "\n",
    "## **Model Performance:**\n",
    "\n",
    "- **Mean Squared Error (MSE):** 0.00417\n",
    "- **R² Score:** 0.589\n",
    "- **Coefficients:** [1.39583423e-06, -9.44799741e-11]\n",
    "- **Intercept:** 0.709\n",
    "\n",
    "## **Interpretation:**\n",
    "The model explains approximately 58.9% of the variance in the Human Development Index (HDI) based on GDP and Population.\n",
    "The coefficients suggest that an increase in GDP has a slight positive effect on HDI, while an increase in Population has a slight negative effect, though these effects are quite small."
   ]
  },
  {
   "cell_type": "code",
   "execution_count": 2,
   "id": "ca5c6a2d-e582-4188-91a3-147f7ee935cb",
   "metadata": {},
   "outputs": [
    {
     "name": "stdout",
     "output_type": "stream",
     "text": [
      "Mean Squared Error: 0.004173988311004202\n",
      "R^2 Score: 0.5893829890361788\n",
      "Coefficients: [ 1.39583423e-06 -9.44799741e-11]\n",
      "Intercept: 0.709001972692669\n"
     ]
    }
   ],
   "source": [
    "import pandas as pd\n",
    "from sklearn.model_selection import train_test_split\n",
    "from sklearn.linear_model import LinearRegression\n",
    "from sklearn.metrics import mean_squared_error, r2_score\n",
    "import numpy as np\n",
    "\n",
    "file_path = '/Users/nahoemi/Downloads/Comparative Analysis Dataset.xlsx'\n",
    "df = pd.read_excel(file_path, sheet_name='Sheet1')\n",
    "\n",
    "X = df[['GDP', 'Population']]\n",
    "y = df['Human Development Index']\n",
    "\n",
    "X_train, X_test, y_train, y_test = train_test_split(X, y, test_size=0.2, random_state=42)\n",
    "\n",
    "model = LinearRegression()\n",
    "model.fit(X_train, y_train)\n",
    "\n",
    "y_pred = model.predict(X_test)\n",
    "\n",
    "mse = mean_squared_error(y_test, y_pred)\n",
    "r2 = r2_score(y_test, y_pred)\n",
    "\n",
    "coefficients = model.coef_\n",
    "intercept = model.intercept_\n",
    "\n",
    "print(f'Mean Squared Error: {mse}')\n",
    "print(f'R^2 Score: {r2}')\n",
    "print(f'Coefficients: {coefficients}')\n",
    "print(f'Intercept: {intercept}')\n"
   ]
  }
 ],
 "metadata": {
  "kernelspec": {
   "display_name": "Python 3 (ipykernel)",
   "language": "python",
   "name": "python3"
  },
  "language_info": {
   "codemirror_mode": {
    "name": "ipython",
    "version": 3
   },
   "file_extension": ".py",
   "mimetype": "text/x-python",
   "name": "python",
   "nbconvert_exporter": "python",
   "pygments_lexer": "ipython3",
   "version": "3.11.7"
  }
 },
 "nbformat": 4,
 "nbformat_minor": 5
}

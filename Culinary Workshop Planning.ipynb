{
 "cells": [
  {
   "cell_type": "markdown",
   "id": "119012c1-7f74-4380-a963-6fa477d23c0a",
   "metadata": {},
   "source": [
    "## Exercise - Data Analysis for Culinary Workshop Planning\n",
    "\n",
    "You're organizing a culinary workshop and have shortlisted four locations, each with different costs for venue rental, chef fees, and equipment rental per week. You need to decide which location to choose based on various factors.\n",
    "\n",
    "Data:\n",
    "\n",
    "| Location | Venue Rental (`$`)       | Chef Fee per session (`$`) | Equipment Rental per week (`$`) | \n",
    "|----------|--------------------------|----------------------------|---------------------------------|\n",
    "| Paris    |       500                |       100                  |          50           |\n",
    "| London   |       600                |       90                   |          45           |\n",
    "| Japan    |       700                |       80                   |          55           |\n",
    "| Colombia |       800                |       110                  |          60           |         \n",
    "\n",
    "Answer the following questions using the data above:\n",
    "\n",
    "1. If you're planning to conduct 8 chef sessions and rent equipment for 3 weeks, which city should you choose to spend the least amount of money?\n",
    "2. How does the answer to the previous question change if you increase the number of chef sessions to 12 and the equipment rental to 5 weeks?\n",
    "3. If your total budget for the workshop is `$5000`, which location should you choose to maximize the number of chef sessions? Which location should you choose to minimize the number of chef sessions within the same budget?\n",
    "5. How does the answer to the previous question change if your budget is `$4000`, `$6000`, or `$7000`?"
   ]
  },
  {
   "cell_type": "markdown",
   "id": "30fe23fc-05fc-4e34-bf16-62860e0dbd15",
   "metadata": {},
   "source": [
    "1. If you're planning to conduct 8 chef sessions and rent equipment for 3 weeks, which city should you choose to spend the least amount of money?"
   ]
  },
  {
   "cell_type": "code",
   "execution_count": 6,
   "id": "6d5ecc68-7f55-4b57-9126-614adb368cee",
   "metadata": {},
   "outputs": [
    {
     "name": "stdout",
     "output_type": "stream",
     "text": [
      "The city to choose to spend the least amount of money is paris with a cost of $1450.\n"
     ]
    }
   ],
   "source": [
    "import math\n",
    "\n",
    "paris = [500, 100, 50, 'paris']\n",
    "london = [600, 90, 45, 'london']\n",
    "japan = [700, 80, 55, 'japan']\n",
    "colombia = [800, 110, 60, 'colombia']\n",
    "cities = [paris, london, japan, colombia]\n",
    "\n",
    "def cost_of_workshop(venue_rental, chef_fee, equipment_rental, sessions=0, number_days=0):\n",
    "    return venue_rental + (chef_fee * sessions) + (equipment_rental * math.ceil(number_days / 7))\n",
    "\n",
    "sessions = 8\n",
    "number_days = 21\n",
    "\n",
    "costs = {}\n",
    "for city in cities:\n",
    "    cost = cost_of_workshop(city[0], city[1], city[2], sessions, number_days)\n",
    "    costs[cost] = city[3]\n",
    "\n",
    "min_cost = min(costs.keys())\n",
    "min_cost_city = costs[min_cost]\n",
    "\n",
    "print(f\"The city to choose to spend the least amount of money is {min_cost_city} with a cost of ${min_cost}.\")"
   ]
  },
  {
   "cell_type": "markdown",
   "id": "2488c2e5-1b82-411a-851b-a115fb47c86e",
   "metadata": {},
   "source": [
    "2. How does the answer to the previous question change if you increase the number of chef sessions to 12 and the equipment rental to 5 weeks?"
   ]
  },
  {
   "cell_type": "code",
   "execution_count": 18,
   "id": "2beba35c-9934-49f2-b535-64af6c02d939",
   "metadata": {},
   "outputs": [
    {
     "name": "stdout",
     "output_type": "stream",
     "text": [
      "If sessions = 12 and number_days = 35, the city to choose to spend the least amount of money is london with a cost of $1905.\n"
     ]
    }
   ],
   "source": [
    "import math\n",
    "\n",
    "paris = [500, 100, 50, 'paris']\n",
    "london = [600, 90, 45, 'london']\n",
    "japan = [700, 80, 55, 'japan']\n",
    "colombia = [800, 110, 60, 'colombia']\n",
    "cities = [paris, london, japan, colombia]\n",
    "\n",
    "def cost_of_workshop(venue_rental, chef_fee, equipment_rental, sessions=0, number_days=0):\n",
    "    return venue_rental + (chef_fee * sessions) + (equipment_rental * math.ceil(number_days / 7))\n",
    "\n",
    "sessions = 12\n",
    "number_days = 35 \n",
    "\n",
    "costs = {}\n",
    "for city in cities:\n",
    "    cost = cost_of_workshop(city[0], city[1], city[2], sessions, number_days)\n",
    "    costs[cost] = city[3]\n",
    "\n",
    "min_cost = min(costs.keys())\n",
    "min_cost_city = costs[min_cost]\n",
    "\n",
    "print(f\"If sessions = 12 and number_days = 35, the city to choose to spend the least amount of money is {min_cost_city} with a cost of ${min_cost}.\")\n"
   ]
  },
  {
   "cell_type": "markdown",
   "id": "118411ae-2115-4757-9541-24093cf9ef94",
   "metadata": {},
   "source": [
    "3. If your total budget for the workshop is `$5000`, which location should you choose to maximize the number of chef sessions? Which location should you choose to minimize the number of chef sessions within the same budget?"
   ]
  },
  {
   "cell_type": "code",
   "execution_count": 17,
   "id": "396f080e-d152-4bce-bbb6-5f8df898bd90",
   "metadata": {},
   "outputs": [
    {
     "name": "stdout",
     "output_type": "stream",
     "text": [
      "For a budget of $5000, maximize chef sessions: ('colombia', 35, 35)\n",
      "For a budget of $5000, minimize chef sessions: ('paris', 48, 48)\n"
     ]
    }
   ],
   "source": [
    "import math\n",
    "\n",
    "paris = [500, 100, 50, 'paris']\n",
    "london = [600, 90, 45, 'london']\n",
    "japan = [700, 80, 55, 'japan']\n",
    "colombia = [800, 110, 60, 'colombia']\n",
    "cities = [paris, london, japan, colombia]\n",
    "\n",
    "def cost_of_workshop(venue_rental, chef_fee, equipment_rental, sessions=0, number_days=0):\n",
    "    return venue_rental + (chef_fee * sessions) + (equipment_rental * math.ceil(number_days / 7))\n",
    "\n",
    "def total_budget(budget, min_session=False, min_number_days=False):\n",
    "    days = 1\n",
    "    sessions = 1\n",
    "    previous_costs = {}\n",
    "    max_cost_before = float('-inf')  \n",
    "    min_cost_before = float('inf')   \n",
    "    \n",
    "    while True:\n",
    "        costs = {}\n",
    "        for city in cities:\n",
    "            cost = cost_of_workshop(city[0], city[1], city[2], sessions, days)\n",
    "            costs[cost] = city[3]\n",
    "        \n",
    "        if min_number_days:\n",
    "            min_cost = min(costs.keys())\n",
    "            if min_cost >= budget:\n",
    "                return previous_costs[min_cost_before], days - 1, sessions - 1\n",
    "            if min_cost < min_cost_before:\n",
    "                min_cost_before = min_cost\n",
    "                previous_costs[min_cost_before] = costs[min_cost]\n",
    "        elif min_session:\n",
    "            max_cost = max(costs.keys())\n",
    "            if max_cost >= budget:\n",
    "                return previous_costs[max_cost_before], days - 1, sessions - 1\n",
    "            if max_cost > max_cost_before:\n",
    "                max_cost_before = max_cost\n",
    "                previous_costs[max_cost_before] = costs[max_cost]\n",
    "        \n",
    "        days += 1\n",
    "        sessions += 1\n",
    "\n",
    "budget = 5000\n",
    "\n",
    "result_max = total_budget(budget, min_session=True)\n",
    "print(f\"For a budget of ${budget}, maximize chef sessions: {result_max}\")\n",
    "\n",
    "result_min = total_budget(budget, min_number_days=True)\n",
    "print(f\"For a budget of ${budget}, minimize chef sessions: {result_min}\")"
   ]
  },
  {
   "cell_type": "markdown",
   "id": "44bbe99a-91fc-4cbb-89cf-971d567a2fe2",
   "metadata": {},
   "source": [
    "4. How does the answer to the previous question change if your budget is $4000, $6000, or $7000?"
   ]
  },
  {
   "cell_type": "code",
   "execution_count": 15,
   "id": "ca2667ff-fd73-423a-b2d3-8cfb84ad5144",
   "metadata": {},
   "outputs": [
    {
     "name": "stdout",
     "output_type": "stream",
     "text": [
      "For a budget of $4000, maximize chef sessions: ('colombia', 26, 26)\n",
      "For a budget of $4000, minimize chef sessions: ('paris', 37, 37)\n",
      "For a budget of $6000, maximize chef sessions: ('colombia', 43, 43)\n",
      "For a budget of $6000, minimize chef sessions: ('paris', 60, 60)\n",
      "For a budget of $7000, maximize chef sessions: ('colombia', 51, 51)\n",
      "For a budget of $7000, minimize chef sessions: ('paris', 71, 71)\n"
     ]
    }
   ],
   "source": [
    "import math\n",
    "\n",
    "paris = [500, 100, 50, 'paris']\n",
    "london = [600, 90, 45, 'london']\n",
    "japan = [700, 80, 55, 'japan']\n",
    "colombia = [800, 110, 60, 'colombia']\n",
    "cities = [paris, london, japan, colombia]\n",
    "\n",
    "def cost_of_workshop(venue_rental, chef_fee, equipment_rental, sessions=0, number_days=0):\n",
    "    return venue_rental + (chef_fee * sessions) + (equipment_rental * math.ceil(number_days / 7))\n",
    "\n",
    "def total_budget(budget, min_session=False, min_number_days=False):\n",
    "    days = 1\n",
    "    sessions = 1\n",
    "    previous_costs = {}\n",
    "    max_cost_before = float('-inf')  \n",
    "    min_cost_before = float('inf')   \n",
    "    \n",
    "    while True:\n",
    "        costs = {}\n",
    "        for city in cities:\n",
    "            cost = cost_of_workshop(city[0], city[1], city[2], sessions, days)\n",
    "            costs[cost] = city[3]\n",
    "        \n",
    "        if min_number_days:\n",
    "            min_cost = min(costs.keys())\n",
    "            if min_cost >= budget:\n",
    "                return previous_costs[min_cost_before], days - 1, sessions - 1\n",
    "            if min_cost < min_cost_before:\n",
    "                min_cost_before = min_cost\n",
    "                previous_costs[min_cost_before] = costs[min_cost]\n",
    "        elif min_session:\n",
    "            max_cost = max(costs.keys())\n",
    "            if max_cost >= budget:\n",
    "                return previous_costs[max_cost_before], days - 1, sessions - 1\n",
    "            if max_cost > max_cost_before:\n",
    "                max_cost_before = max_cost\n",
    "                previous_costs[max_cost_before] = costs[max_cost]\n",
    "        \n",
    "        days += 1\n",
    "        sessions += 1\n",
    "\n",
    "budgets = [4000, 6000, 7000]\n",
    "\n",
    "for budget in budgets:\n",
    "    result_max = total_budget(budget, min_session=True)\n",
    "    print(f\"For a budget of ${budget}, maximize chef sessions: {result_max}\")\n",
    "\n",
    "    result_min = total_budget(budget, min_number_days=True)\n",
    "    print(f\"For a budget of ${budget}, minimize chef sessions: {result_min}\")"
   ]
  }
 ],
 "metadata": {
  "kernelspec": {
   "display_name": "Python 3 (ipykernel)",
   "language": "python",
   "name": "python3"
  },
  "language_info": {
   "codemirror_mode": {
    "name": "ipython",
    "version": 3
   },
   "file_extension": ".py",
   "mimetype": "text/x-python",
   "name": "python",
   "nbconvert_exporter": "python",
   "pygments_lexer": "ipython3",
   "version": "3.11.7"
  }
 },
 "nbformat": 4,
 "nbformat_minor": 5
}

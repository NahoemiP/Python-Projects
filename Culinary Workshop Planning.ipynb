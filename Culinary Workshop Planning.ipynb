{
 "cells": [
  {
   "cell_type": "markdown",
   "id": "119012c1-7f74-4380-a963-6fa477d23c0a",
   "metadata": {},
   "source": [
    "## Exercise - Data Analysis for Culinary Workshop Planning\n",
    "\n",
    "You're organizing a culinary workshop and have shortlisted four locations, each with different costs for venue rental, chef fees, and equipment rental per week. You need to decide which location to choose based on various factors.\n",
    "\n",
    "Data:\n",
    "\n",
    "| Location | Venue Rental (`$`)       | Chef Fee per session (`$`) | Equipment Rental per week (`$`) | \n",
    "|----------|--------------------------|----------------------------|---------------------------------|\n",
    "| Paris    |       500                |       100                  |          50           |\n",
    "| London   |       600                |       90                   |          45           |\n",
    "| Japan    |       700                |       80                   |          55           |\n",
    "| Colombia |       800                |       110                  |          60           |         \n",
    "\n",
    "Answer the following questions using the data above:\n",
    "\n",
    "1. If you're planning to conduct 8 chef sessions and rent equipment for 3 weeks, which city should you choose to spend the least amount of money?\n",
    "2. How does the answer to the previous question change if you increase the number of chef sessions to 12 and the equipment rental to 5 weeks?\n",
    "3. If your total budget for the workshop is `$5000`, which location should you choose to maximize the number of chef sessions? Which location should you choose to minimize the number of chef sessions within the same budget?\n",
    "5. How does the answer to the previous question change if your budget is `$4000`, `$6000`, or `$7000`?"
   ]
  },
  {
   "cell_type": "markdown",
   "id": "30fe23fc-05fc-4e34-bf16-62860e0dbd15",
   "metadata": {},
   "source": [
    "1. If you're planning to conduct 8 chef sessions and rent equipment for 3 weeks, which city should you choose to spend the least amount of money?"
   ]
  },
  {
   "cell_type": "code",
   "execution_count": 26,
   "id": "6d5ecc68-7f55-4b57-9126-614adb368cee",
   "metadata": {},
   "outputs": [
    {
     "name": "stdout",
     "output_type": "stream",
     "text": [
      "The city to choose to spend the least amount of money is paris with a cost of $1450.\n"
     ]
    }
   ],
   "source": [
    "import math\n",
    "\n",
    "paris = [500, 100, 50, 'paris']\n",
    "london = [600, 90, 45, 'london']\n",
    "japan = [700, 80, 55, 'japan']\n",
    "colombia = [800, 110, 60, 'colombia']\n",
    "cities = [paris, london, japan, colombia]\n",
    "\n",
    "def workshop_cost(venue_rental, chef_fee, equipment_rental, sessions, weeks=0):\n",
    "    total_cost = venue_rental + (chef_fee * sessions) + (equipment_rental * math.ceil(weeks))\n",
    "    return total_cost\n",
    "\n",
    "sessions_1 = 8\n",
    "weeks_1 = 3\n",
    "\n",
    "costs = {}\n",
    "for city in cities:\n",
    "    cost = workshop_cost(city[0], city[1], city[2], sessions_1, weeks_1)\n",
    "    costs[cost] = city[3]\n",
    "\n",
    "min_cost = min(costs.keys())\n",
    "min_cost_city = costs[min_cost]\n",
    "\n",
    "print(f\"The city to choose to spend the least amount of money is {min_cost_city} with a cost of ${min_cost}.\")"
   ]
  },
  {
   "cell_type": "markdown",
   "id": "2488c2e5-1b82-411a-851b-a115fb47c86e",
   "metadata": {},
   "source": [
    "2. How does the answer to the previous question change if you increase the number of chef sessions to 12 and the equipment rental to 5 weeks?"
   ]
  },
  {
   "cell_type": "code",
   "execution_count": 37,
   "id": "2beba35c-9934-49f2-b535-64af6c02d939",
   "metadata": {},
   "outputs": [
    {
     "name": "stdout",
     "output_type": "stream",
     "text": [
      "The city to choose to spend the least amount of money is london with a cost of $1905.\n"
     ]
    }
   ],
   "source": [
    "import math\n",
    "\n",
    "paris = [500, 100, 50, 'paris']\n",
    "london = [600, 90, 45, 'london']\n",
    "japan = [700, 80, 55, 'japan']\n",
    "colombia = [800, 110, 60, 'colombia']\n",
    "cities = [paris, london, japan, colombia]\n",
    "\n",
    "def workshop_cost(venue_rental, chef_fee, equipment_rental, sessions, weeks=0):\n",
    "    total_cost = venue_rental + (chef_fee * sessions) + (equipment_rental * math.ceil(weeks))\n",
    "    return total_cost\n",
    "\n",
    "sessions_1 = 12\n",
    "weeks_1 = 5\n",
    "\n",
    "costs = {}\n",
    "for city in cities:\n",
    "    cost = workshop_cost(city[0], city[1], city[2], sessions_1, weeks_1)\n",
    "    costs[cost] = city[3]\n",
    "\n",
    "min_cost = min(costs.keys())\n",
    "min_cost_city = costs[min_cost]\n",
    "\n",
    "print(f\"The city to choose to spend the least amount of money is {min_cost_city} with a cost of ${min_cost}.\")"
   ]
  },
  {
   "cell_type": "markdown",
   "id": "118411ae-2115-4757-9541-24093cf9ef94",
   "metadata": {},
   "source": [
    "3. If your total budget for the workshop is `$5000`, which location should you choose to maximize the number of chef sessions? Which location should you choose to minimize the number of chef sessions within the same budget?"
   ]
  },
  {
   "cell_type": "code",
   "execution_count": 48,
   "id": "396f080e-d152-4bce-bbb6-5f8df898bd90",
   "metadata": {},
   "outputs": [
    {
     "name": "stdout",
     "output_type": "stream",
     "text": [
      "Maximize Chef Sessions:\n",
      "Paris with approximately 7.0 sessions\n",
      "\n",
      "Minimize Chef Sessions:\n",
      "Japan with approximately 5.0 sessions\n"
     ]
    }
   ],
   "source": [
    "paris = [500, 100, 50, 'Paris']\n",
    "london = [600, 90, 45, 'London']\n",
    "japan = [700, 80, 55, 'Japan']\n",
    "colombia = [800, 110, 60, 'Colombia']\n",
    "cities = [paris, london, japan, colombia]\n",
    "\n",
    "total_budget = 5000\n",
    "\n",
    "for city in cities:\n",
    "    venue_rental = city[0]\n",
    "    chef_fee_per_session = city[1]\n",
    "    equipment_rental_per_week = city[2]\n",
    "    city_name = city[3]\n",
    "    \n",
    "    total_cost_per_session = venue_rental + chef_fee_per_session + (equipment_rental_per_week / 1)  \n",
    "    num_sessions = total_budget // total_cost_per_session\n",
    "    \n",
    "max_sessions_location = max(cities, key=lambda x: total_budget // (x[0] + x[1] + (x[2] / 1)))\n",
    "min_sessions_location = min(cities, key=lambda x: total_budget // (x[0] + x[1] + (x[2] / 1)))\n",
    "\n",
    "print(f\"Maximize Chef Sessions:\")\n",
    "print(f\"{max_sessions_location[3]} with approximately {total_budget // (max_sessions_location[0] + max_sessions_location[1] + (max_sessions_location[2] / 1))} sessions\")\n",
    "print()\n",
    "\n",
    "print(f\"Minimize Chef Sessions:\")\n",
    "print(f\"{min_sessions_location[3]} with approximately {total_budget // (min_sessions_location[0] + min_sessions_location[1] + (min_sessions_location[2] / 1))} sessions\")\n"
   ]
  },
  {
   "cell_type": "markdown",
   "id": "44bbe99a-91fc-4cbb-89cf-971d567a2fe2",
   "metadata": {},
   "source": [
    "4. How does the answer to the previous question change if your budget is `$4000`, `$6000`, or `$7000`?"
   ]
  },
  {
   "cell_type": "code",
   "execution_count": 50,
   "id": "ca2667ff-fd73-423a-b2d3-8cfb84ad5144",
   "metadata": {},
   "outputs": [
    {
     "name": "stdout",
     "output_type": "stream",
     "text": [
      "For budget $4000:\n",
      "\n",
      "Maximize Chef Sessions:\n",
      "Paris with approximately 6.0 sessions\n",
      "Minimize Chef Sessions:\n",
      "Japan with approximately 4.0 sessions\n",
      "\n",
      "For budget $6000:\n",
      "\n",
      "Maximize Chef Sessions:\n",
      "Paris with approximately 9.0 sessions\n",
      "Minimize Chef Sessions:\n",
      "Colombia with approximately 6.0 sessions\n",
      "\n",
      "For budget $7000:\n",
      "\n",
      "Maximize Chef Sessions:\n",
      "Paris with approximately 10.0 sessions\n",
      "Minimize Chef Sessions:\n",
      "Colombia with approximately 7.0 sessions\n",
      "\n"
     ]
    }
   ],
   "source": [
    "paris = [500, 100, 50, 'Paris']\n",
    "london = [600, 90, 45, 'London']\n",
    "japan = [700, 80, 55, 'Japan']\n",
    "colombia = [800, 110, 60, 'Colombia']\n",
    "cities = [paris, london, japan, colombia]\n",
    "\n",
    "budgets = [4000, 6000, 7000]\n",
    "\n",
    "def calculate_sessions(budget):\n",
    "    print(f\"For budget ${budget}:\")\n",
    "    print()\n",
    "    \n",
    "    sessions = []\n",
    "    for city in cities:\n",
    "        venue_rental = city[0]\n",
    "        chef_fee_per_session = city[1]\n",
    "        equipment_rental_per_week = city[2]\n",
    "        city_name = city[3]\n",
    "        \n",
    "        total_cost_per_session = venue_rental + chef_fee_per_session + (equipment_rental_per_week / 1)  # Assuming 1 week of equipment rental\n",
    "        num_sessions = budget // total_cost_per_session\n",
    "        \n",
    "        sessions.append((city_name, num_sessions))\n",
    "    \n",
    "    max_sessions_location = max(sessions, key=lambda x: x[1])\n",
    "    print(f\"Maximize Chef Sessions:\")\n",
    "    print(f\"{max_sessions_location[0]} with approximately {max_sessions_location[1]} sessions\")\n",
    "   \n",
    "    min_sessions_location = min(sessions, key=lambda x: x[1])\n",
    "    print(f\"Minimize Chef Sessions:\")\n",
    "    print(f\"{min_sessions_location[0]} with approximately {min_sessions_location[1]} sessions\")\n",
    "    \n",
    "    print()\n",
    "\n",
    "for budget in budgets:\n",
    "    calculate_sessions(budget)"
   ]
  },
  {
   "cell_type": "code",
   "execution_count": null,
   "id": "e122eeed-eeaa-493e-8dfd-d5733378f81b",
   "metadata": {},
   "outputs": [],
   "source": []
  }
 ],
 "metadata": {
  "kernelspec": {
   "display_name": "Python 3 (ipykernel)",
   "language": "python",
   "name": "python3"
  },
  "language_info": {
   "codemirror_mode": {
    "name": "ipython",
    "version": 3
   },
   "file_extension": ".py",
   "mimetype": "text/x-python",
   "name": "python",
   "nbconvert_exporter": "python",
   "pygments_lexer": "ipython3",
   "version": "3.11.7"
  }
 },
 "nbformat": 4,
 "nbformat_minor": 5
}
